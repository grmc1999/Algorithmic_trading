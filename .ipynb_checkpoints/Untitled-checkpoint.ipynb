{
 "cells": [
  {
   "cell_type": "code",
   "execution_count": 1,
   "metadata": {},
   "outputs": [],
   "source": [
    "import yfinance as yf\n",
    "from pyfinviz.screener import Screener\n",
    "import numpy as np"
   ]
  },
  {
   "cell_type": "code",
   "execution_count": 47,
   "metadata": {},
   "outputs": [],
   "source": [
    "page = 100\n",
    "screener = Screener(pages=[x for x in range(1, page)])\n",
    "list_ticker = []\n"
   ]
  },
  {
   "cell_type": "code",
   "execution_count": 48,
   "metadata": {},
   "outputs": [],
   "source": [
    "for i in range(0, page):\n",
    "    if i == 1:\n",
    "        pass\n",
    "    else:\n",
    "        list_ticker=list_ticker+list(screener.data_frames[i].Ticker.values)"
   ]
  },
  {
   "cell_type": "code",
   "execution_count": 2,
   "metadata": {},
   "outputs": [],
   "source": [
    "def get_tickers(page=10,vectorized=True):\n",
    "    screener = Screener(pages=[x for x in range(1, page)])\n",
    "    if vectorized:\n",
    "        a=np.vectorize(lambda screener,i:screener.data_frames[i].Ticker.values,signature=\"(),()->(j)\")(screener,\n",
    "                                                                                             np.delete(np.arange(0,page),1))\n",
    "        list_ticker=list(a.reshape(-1))\n",
    "    else:\n",
    "        list_ticker=[]\n",
    "        for i in range(0, page):\n",
    "            if i == 1:\n",
    "                pass\n",
    "            else:\n",
    "                list_ticker=list_ticker+list(screener.data_frames[i].Ticker.values)\n",
    "    return list_ticker"
   ]
  },
  {
   "cell_type": "code",
   "execution_count": 5,
   "metadata": {},
   "outputs": [
    {
     "ename": "UnboundLocalError",
     "evalue": "local variable 'screener' referenced before assignment",
     "output_type": "error",
     "traceback": [
      "\u001b[1;31m---------------------------------------------------------------------------\u001b[0m",
      "\u001b[1;31mUnboundLocalError\u001b[0m                         Traceback (most recent call last)",
      "\u001b[1;32m<ipython-input-5-6e018582e3ec>\u001b[0m in \u001b[0;36m<module>\u001b[1;34m\u001b[0m\n\u001b[1;32m----> 1\u001b[1;33m \u001b[0mTlist\u001b[0m\u001b[1;33m=\u001b[0m\u001b[0mget_tickers\u001b[0m\u001b[1;33m(\u001b[0m\u001b[0mpage\u001b[0m\u001b[1;33m=\u001b[0m\u001b[1;36m5\u001b[0m\u001b[1;33m,\u001b[0m\u001b[0mvectorized\u001b[0m\u001b[1;33m=\u001b[0m\u001b[1;32mTrue\u001b[0m\u001b[1;33m)\u001b[0m\u001b[1;33m\u001b[0m\u001b[1;33m\u001b[0m\u001b[0m\n\u001b[0m",
      "\u001b[1;32m<ipython-input-2-cd025b1d8711>\u001b[0m in \u001b[0;36mget_tickers\u001b[1;34m(page, vectorized)\u001b[0m\n\u001b[0;32m      1\u001b[0m \u001b[1;32mdef\u001b[0m \u001b[0mget_tickers\u001b[0m\u001b[1;33m(\u001b[0m\u001b[0mpage\u001b[0m\u001b[1;33m=\u001b[0m\u001b[1;36m10\u001b[0m\u001b[1;33m,\u001b[0m\u001b[0mvectorized\u001b[0m\u001b[1;33m=\u001b[0m\u001b[1;32mTrue\u001b[0m\u001b[1;33m)\u001b[0m\u001b[1;33m:\u001b[0m\u001b[1;33m\u001b[0m\u001b[1;33m\u001b[0m\u001b[0m\n\u001b[0;32m      2\u001b[0m     \u001b[1;32mif\u001b[0m \u001b[0mvectorized\u001b[0m\u001b[1;33m:\u001b[0m\u001b[1;33m\u001b[0m\u001b[1;33m\u001b[0m\u001b[0m\n\u001b[1;32m----> 3\u001b[1;33m         a=np.vectorize(lambda screener,i:screener.data_frames[i].Ticker.values,signature=\"(),()->(j)\")(screener,\n\u001b[0m\u001b[0;32m      4\u001b[0m                                                                                              np.delete(np.arange(0,page),1))\n\u001b[0;32m      5\u001b[0m         \u001b[0mlist_ticker\u001b[0m\u001b[1;33m=\u001b[0m\u001b[0mlist\u001b[0m\u001b[1;33m(\u001b[0m\u001b[0ma\u001b[0m\u001b[1;33m.\u001b[0m\u001b[0mreshape\u001b[0m\u001b[1;33m(\u001b[0m\u001b[1;33m-\u001b[0m\u001b[1;36m1\u001b[0m\u001b[1;33m)\u001b[0m\u001b[1;33m)\u001b[0m\u001b[1;33m\u001b[0m\u001b[1;33m\u001b[0m\u001b[0m\n",
      "\u001b[1;31mUnboundLocalError\u001b[0m: local variable 'screener' referenced before assignment"
     ]
    }
   ],
   "source": [
    "Tlist=get_tickers(page=5,vectorized=True)"
   ]
  },
  {
   "cell_type": "code",
   "execution_count": 4,
   "metadata": {},
   "outputs": [
    {
     "data": {
      "text/plain": [
       "['A',\n",
       " 'AA',\n",
       " 'AAAU',\n",
       " 'AAC',\n",
       " 'AACG',\n",
       " 'AACI',\n",
       " 'AACIU',\n",
       " 'AACIW',\n",
       " 'AADI',\n",
       " 'AADR',\n",
       " 'AAIC',\n",
       " 'AAL',\n",
       " 'AAME',\n",
       " 'AAN',\n",
       " 'AAOI',\n",
       " 'AAON',\n",
       " 'AAP',\n",
       " 'AAPL',\n",
       " 'AAQC',\n",
       " 'AAT',\n",
       " 'AATC',\n",
       " 'AAU',\n",
       " 'AAWW',\n",
       " 'AAXJ',\n",
       " 'AB',\n",
       " 'ABB',\n",
       " 'ABBV',\n",
       " 'ABC',\n",
       " 'ABCB',\n",
       " 'ABCL',\n",
       " 'ABCM',\n",
       " 'ABEO',\n",
       " 'ABEQ',\n",
       " 'ABEV',\n",
       " 'ABG',\n",
       " 'ABGI',\n",
       " 'ABIO',\n",
       " 'ABM',\n",
       " 'ABMD',\n",
       " 'ABNB',\n",
       " 'ABOS',\n",
       " 'ABR',\n",
       " 'ABSI',\n",
       " 'ABST',\n",
       " 'ABT',\n",
       " 'ABTX',\n",
       " 'ABUS',\n",
       " 'ABVC',\n",
       " 'AC',\n",
       " 'ACA',\n",
       " 'ACABU',\n",
       " 'ACAD',\n",
       " 'ACAHU',\n",
       " 'ACAQ',\n",
       " 'ACB',\n",
       " 'ACBI',\n",
       " 'ACC',\n",
       " 'ACCD',\n",
       " 'ACCO',\n",
       " 'ACEL',\n",
       " 'ACER',\n",
       " 'ACES',\n",
       " 'ACET',\n",
       " 'ACEV',\n",
       " 'ACEVU',\n",
       " 'ACGL',\n",
       " 'ACGLN',\n",
       " 'ACH',\n",
       " 'ACHC',\n",
       " 'ACHL',\n",
       " 'ACHR',\n",
       " 'ACHV',\n",
       " 'ACI',\n",
       " 'ACII',\n",
       " 'ACIO',\n",
       " 'ACIU',\n",
       " 'ACIW',\n",
       " 'ACKIT',\n",
       " 'ACKIU',\n",
       " 'ACLS']"
      ]
     },
     "execution_count": 4,
     "metadata": {},
     "output_type": "execute_result"
    }
   ],
   "source": [
    "Tlist"
   ]
  }
 ],
 "metadata": {
  "kernelspec": {
   "display_name": "trading",
   "language": "python",
   "name": "trading"
  },
  "language_info": {
   "codemirror_mode": {
    "name": "ipython",
    "version": 3
   },
   "file_extension": ".py",
   "mimetype": "text/x-python",
   "name": "python",
   "nbconvert_exporter": "python",
   "pygments_lexer": "ipython3",
   "version": "3.8.12"
  }
 },
 "nbformat": 4,
 "nbformat_minor": 4
}
