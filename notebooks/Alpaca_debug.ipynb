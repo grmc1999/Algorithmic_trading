{
 "cells": [
  {
   "cell_type": "code",
   "execution_count": 1,
   "id": "e27d7c24",
   "metadata": {},
   "outputs": [],
   "source": [
    "API_KEY=\"PKRMNXXYSBQ4XHCMQFAT\"\n",
    "secret_KEY=\"rQJRrlYzHWNlCoYZ4UKWH2Vf6NYUVdIJJn4WNgBm\"\n",
    "ALPACA_API_URL = \"https://paper-api.alpaca.markets\""
   ]
  },
  {
   "cell_type": "code",
   "execution_count": 2,
   "id": "6b8bb3e2",
   "metadata": {},
   "outputs": [],
   "source": [
    "#import alpaca_trade_api as tradeapi\n",
    "from alpaca.trading.client import TradingClient\n",
    "from alpaca.trading.requests import GetAssetsRequest\n",
    "from alpaca.trading.enums import AssetClass\n",
    "from alpaca.trading.requests import MarketOrderRequest\n",
    "from alpaca.trading.enums import OrderSide, TimeInForce\n",
    "import numpy as np"
   ]
  },
  {
   "cell_type": "code",
   "execution_count": 3,
   "id": "8c7bd639",
   "metadata": {},
   "outputs": [],
   "source": [
    "Trc=TradingClient(API_KEY, secret_KEY,paper=True)"
   ]
  },
  {
   "cell_type": "code",
   "execution_count": 53,
   "id": "fcfc1828",
   "metadata": {},
   "outputs": [],
   "source": [
    "search_params = GetAssetsRequest(asset_class=AssetClass.US_EQUITY)\n",
    "\n",
    "assets = Trc.get_all_assets(search_params)"
   ]
  },
  {
   "cell_type": "code",
   "execution_count": 54,
   "id": "703b323c",
   "metadata": {},
   "outputs": [],
   "source": [
    "asset=assets[0]\n",
    "assets_symbol=np.vectorize(lambda asset:asset.symbol )(np.array(assets))"
   ]
  },
  {
   "cell_type": "code",
   "execution_count": 58,
   "id": "f80ac31e",
   "metadata": {},
   "outputs": [
    {
     "data": {
      "text/plain": [
       "array(['MOS'], dtype='<U16')"
      ]
     },
     "execution_count": 58,
     "metadata": {},
     "output_type": "execute_result"
    }
   ],
   "source": [
    "assets_symbol[assets_symbol==\"MOS\"]"
   ]
  },
  {
   "cell_type": "code",
   "execution_count": 4,
   "id": "7c78f8b1",
   "metadata": {},
   "outputs": [],
   "source": [
    "# preparing orders\n",
    "market_order_data = MarketOrderRequest(\n",
    "                    symbol=\"MOS\",\n",
    "                    notional=100,\n",
    "                    side=OrderSide.BUY,\n",
    "                    time_in_force=TimeInForce.DAY\n",
    "                    )\n",
    "\n",
    "# Market order\n",
    "market_order = Trc.submit_order(\n",
    "                order_data=market_order_data\n",
    "               )"
   ]
  },
  {
   "cell_type": "code",
   "execution_count": 5,
   "id": "6b5a06f1",
   "metadata": {},
   "outputs": [
    {
     "data": {
      "text/plain": [
       "UUID('ba0d1022-bc21-4cbf-9566-0042a951c3a0')"
      ]
     },
     "execution_count": 5,
     "metadata": {},
     "output_type": "execute_result"
    }
   ],
   "source": [
    "market_order.id"
   ]
  },
  {
   "cell_type": "code",
   "execution_count": 6,
   "id": "b202c17a",
   "metadata": {},
   "outputs": [],
   "source": [
    "#Cancel order\n",
    "Trc.cancel_order_by_id(market_order.id)"
   ]
  },
  {
   "cell_type": "code",
   "execution_count": null,
   "id": "64b8ab9b",
   "metadata": {},
   "outputs": [],
   "source": [
    "Trc."
   ]
  },
  {
   "cell_type": "code",
   "execution_count": 10,
   "id": "6f1b68c8",
   "metadata": {},
   "outputs": [
    {
     "data": {
      "text/plain": [
       "'100'"
      ]
     },
     "execution_count": 10,
     "metadata": {},
     "output_type": "execute_result"
    }
   ],
   "source": [
    "market_order.notional"
   ]
  },
  {
   "cell_type": "code",
   "execution_count": 11,
   "id": "872deef3",
   "metadata": {},
   "outputs": [],
   "source": [
    "sell_market_order_data = MarketOrderRequest(\n",
    "                    symbol=market_order.symbol,\n",
    "                    notional=market_order.notional,\n",
    "                    side=OrderSide.SELL,\n",
    "                    time_in_force=TimeInForce.DAY\n",
    "                    )\n",
    "\n",
    "market_order = Trc.submit_order(\n",
    "                order_data=sell_market_order_data\n",
    "               )"
   ]
  },
  {
   "cell_type": "code",
   "execution_count": 76,
   "id": "be712b4c",
   "metadata": {},
   "outputs": [
    {
     "data": {
      "text/plain": [
       "181.66966985640914"
      ]
     },
     "execution_count": 76,
     "metadata": {},
     "output_type": "execute_result"
    }
   ],
   "source": [
    "100*((1+1/100)**60)"
   ]
  },
  {
   "cell_type": "code",
   "execution_count": 9,
   "id": "21a93d90",
   "metadata": {},
   "outputs": [
    {
     "ename": "TypeError",
     "evalue": "__init__() takes 1 positional argument but 2 were given",
     "output_type": "error",
     "traceback": [
      "\u001b[1;31m---------------------------------------------------------------------------\u001b[0m",
      "\u001b[1;31mTypeError\u001b[0m                                 Traceback (most recent call last)",
      "Input \u001b[1;32mIn [9]\u001b[0m, in \u001b[0;36m<cell line: 1>\u001b[1;34m()\u001b[0m\n\u001b[1;32m----> 1\u001b[0m \u001b[43mMarketOrderRequest\u001b[49m\u001b[43m(\u001b[49m\u001b[43mmarket_order\u001b[49m\u001b[43m)\u001b[49m\n",
      "\u001b[1;31mTypeError\u001b[0m: __init__() takes 1 positional argument but 2 were given"
     ]
    }
   ],
   "source": [
    "MarketOrderRequest(market_order)"
   ]
  }
 ],
 "metadata": {
  "kernelspec": {
   "display_name": "trading",
   "language": "python",
   "name": "trading"
  },
  "language_info": {
   "codemirror_mode": {
    "name": "ipython",
    "version": 3
   },
   "file_extension": ".py",
   "mimetype": "text/x-python",
   "name": "python",
   "nbconvert_exporter": "python",
   "pygments_lexer": "ipython3",
   "version": "3.8.12"
  }
 },
 "nbformat": 4,
 "nbformat_minor": 5
}
