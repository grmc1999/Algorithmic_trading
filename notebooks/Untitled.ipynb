{
 "cells": [
  {
   "cell_type": "code",
   "execution_count": 1,
   "id": "cb5891c3",
   "metadata": {},
   "outputs": [],
   "source": [
    "import selenium\n",
    "from selenium import webdriver"
   ]
  },
  {
   "cell_type": "code",
   "execution_count": 9,
   "id": "35b11268",
   "metadata": {},
   "outputs": [],
   "source": [
    "driver = webdriver.Firefox()"
   ]
  },
  {
   "cell_type": "code",
   "execution_count": 10,
   "id": "24ebe395",
   "metadata": {},
   "outputs": [],
   "source": [
    "driver.get(\"https://www.etoro.com\")"
   ]
  },
  {
   "cell_type": "code",
   "execution_count": 8,
   "id": "e7751623",
   "metadata": {},
   "outputs": [],
   "source": [
    "driver.get?"
   ]
  }
 ],
 "metadata": {
  "kernelspec": {
   "display_name": "trading",
   "language": "python",
   "name": "trading"
  },
  "language_info": {
   "codemirror_mode": {
    "name": "ipython",
    "version": 3
   },
   "file_extension": ".py",
   "mimetype": "text/x-python",
   "name": "python",
   "nbconvert_exporter": "python",
   "pygments_lexer": "ipython3",
   "version": "3.8.12"
  }
 },
 "nbformat": 4,
 "nbformat_minor": 5
}
